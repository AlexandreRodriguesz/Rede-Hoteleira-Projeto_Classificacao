{
 "cells": [
  {
   "cell_type": "markdown",
   "metadata": {},
   "source": [
    "# Atualizações"
   ]
  },
  {
   "attachments": {},
   "cell_type": "markdown",
   "metadata": {},
   "source": [
    "* EDA\n",
    "* Criar novas colunas\n",
    "* Criar Função que treine os modelos XGBosst e Random Forest e gere uma tabela com as metricas de ambos\n",
    "* Criar Função que função que treine o modelo escolhido e atualize a tabela de score das versões\n",
    "* Escolher outros valores para os parametros no fine tuning\n",
    "* Criar uma função que faça todas as transformações do dataset test.csv"
   ]
  },
  {
   "cell_type": "markdown",
   "metadata": {},
   "source": [
    "# 0.0 Imports"
   ]
  },
  {
   "cell_type": "code",
<<<<<<< Updated upstream
   "execution_count": null,
=======
   "execution_count": 1,
>>>>>>> Stashed changes
   "metadata": {},
   "outputs": [
    {
     "name": "stderr",
     "output_type": "stream",
     "text": [
      "/Users/hallanmiranda/.pyenv/versions/3.10.6/lib/python3.10/site-packages/tqdm/auto.py:22: TqdmWarning: IProgress not found. Please update jupyter and ipywidgets. See https://ipywidgets.readthedocs.io/en/stable/user_install.html\n",
      "  from .autonotebook import tqdm as notebook_tqdm\n"
     ]
    }
   ],
   "source": [
    "import inflection\n",
    "import io\n",
    "import math\n",
    "import time\n",
    "import random\n",
    "import numpy as np\n",
    "import pandas as pd\n",
    "import seaborn as snb\n",
    "import time\n",
    "import sweetviz as sv\n",
    "import warnings\n",
    "\n",
    "from xgboost import XGBClassifier\n",
    "from scipy import stats\n",
    "from sklearn.neighbors import KNeighborsClassifier\n",
    "from xgboost import XGBClassifier\n",
    "from catboost import CatBoostClassifier\n",
    "from sklearn.ensemble import RandomForestClassifier, GradientBoostingClassifier\n",
    "from sklearn.linear_model import Lasso, LinearRegression, LogisticRegression\n",
    "from sklearn.tree import DecisionTreeClassifier\n",
    "from sklearn.utils.class_weight import compute_sample_weight\n",
    "from sklearn.ensemble import RandomForestClassifier, GradientBoostingClassifier\n",
    "from sklearn.model_selection import train_test_split, RandomizedSearchCV\n",
    "from sklearn import tree\n",
    "from boruta import BorutaPy\n",
    "from sklearn.preprocessing import RobustScaler\n",
    "from category_encoders import CountEncoder, TargetEncoder\n",
    "from imblearn.over_sampling import RandomOverSampler\n",
    "from sklearn.preprocessing import LabelEncoder \n",
    "import matplotlib.pyplot as plt\n",
    "from sklearn.metrics import f1_score\n",
    "import datetime\n",
    "from sklearn.naive_bayes import BernoulliNB\n",
    "\n",
    "\n",
    "\n",
    "%matplotlib inline\n",
    "snb.set_style('whitegrid')\n",
    "warnings.filterwarnings('ignore')\n"
   ]
  },
  {
   "cell_type": "code",
   "execution_count": null,
   "metadata": {},
   "outputs": [],
   "source": []
  },
  {
   "cell_type": "markdown",
   "metadata": {},
   "source": [
    "## Functions"
   ]
  },
  {
   "cell_type": "code",
<<<<<<< Updated upstream
   "execution_count": null,
=======
   "execution_count": 2,
>>>>>>> Stashed changes
   "metadata": {},
   "outputs": [],
   "source": [
    "def show_dtypes(df):\n",
    "    print(df.dtypes)\n",
    "    return None\n",
    "\n",
    "def show_dimensions(df):\n",
    "    print('Number of rows: {}' .format(df.shape[0]))\n",
    "    print('Number of columns: {}' .format(df.shape[1]))\n",
    "    return None\n",
    "\n",
    "def cramer_v( x, y ):\n",
    "    cm = pd.crosstab( x, y ).to_numpy()\n",
    "    n = cm.sum()\n",
    "    r, k = cm.shape\n",
    "    \n",
    "    chi2 = stats.chi2_contingency( cm )[0]\n",
    "    chi2corr = max( 0, chi2 - (k-1)*(r-1)/(n-1) )\n",
    "    \n",
    "    kcorr = k - (k-1)**2/(n-1)\n",
    "    rcorr = r - (r-1)**2/(n-1)\n",
    "    return round(np.sqrt( (chi2corr/n) / ( min( kcorr-1, rcorr-1 ) ) ),2)"
   ]
  },
  {
   "cell_type": "markdown",
   "metadata": {},
   "source": [
    "# 1.0 Loading Data"
   ]
  },
  {
   "cell_type": "code",
<<<<<<< Updated upstream
   "execution_count": null,
=======
   "execution_count": 3,
>>>>>>> Stashed changes
   "metadata": {},
   "outputs": [],
   "source": [
    "df_train = pd.read_csv('../hachday_hotel-chain/dataset/train.csv')\n",
    "df_test  = pd.read_csv('../hachday_hotel-chain/dataset/test.csv')\n",
    "sub_m = pd.read_csv('../hachday_hotel-chain/dataset/submission.csv')"
   ]
  },
  {
   "cell_type": "markdown",
   "metadata": {},
   "source": [
    "## Rename columns"
   ]
  },
  {
   "cell_type": "code",
<<<<<<< Updated upstream
   "execution_count": null,
=======
   "execution_count": 4,
>>>>>>> Stashed changes
   "metadata": {},
   "outputs": [],
   "source": [
    "df = df_train.copy()"
   ]
  },
  {
   "cell_type": "code",
<<<<<<< Updated upstream
   "execution_count": null,
=======
   "execution_count": 5,
>>>>>>> Stashed changes
   "metadata": {},
   "outputs": [],
   "source": [
    "df = df.rename(columns={'Classificação do hotel': 'hotel_rating', 'Meses da reserva até o check-in': 'month_booking',\n",
    "                        'Número de pernoites reservadas': 'number_stays_booking', 'Número de hospedes': 'number_guests',\n",
    "                        'Regime de alimentação': 'meal_regime', 'Nacionalidade': 'nationality', 'Forma de Reserva': 'reservation_Form',\n",
    "                        'Já se hospedou anterioremente': 'previously_hosted', 'Tipo do quarto reservado': 'type_booked_room',\n",
    "                        'Reserva feita por agência de turismo': 'tourism_agency_booking', 'Reserva feita por empresa': 'company_booking',\n",
    "                        'Reserva com Estacionamento': 'parking_Reservation', 'Reserva com Observações': 'reservation_Observations', 'Reserva Cancelada': 'booking_canceled'})\n"
   ]
  },
  {
   "cell_type": "markdown",
   "metadata": {},
   "source": [
    "### Fill drop Na"
   ]
  },
  {
   "cell_type": "code",
<<<<<<< Updated upstream
   "execution_count": null,
=======
   "execution_count": 6,
>>>>>>> Stashed changes
   "metadata": {},
   "outputs": [],
   "source": [
    "df.dropna(inplace=True)\n",
    "#df['nationality'] = df['nationality'].apply(\n",
    "#    lambda x: 'nao_identificado' if pd.isnull(x) else x)\n",
    "\n"
   ]
  },
  {
   "cell_type": "code",
<<<<<<< Updated upstream
   "execution_count": null,
=======
   "execution_count": 7,
>>>>>>> Stashed changes
   "metadata": {},
   "outputs": [
    {
     "data": {
      "text/plain": [
       "id                          0\n",
       "hotel_rating                0\n",
       "month_booking               0\n",
       "number_stays_booking        0\n",
       "number_guests               0\n",
       "meal_regime                 0\n",
       "nationality                 0\n",
       "reservation_Form            0\n",
       "previously_hosted           0\n",
       "type_booked_room            0\n",
       "tourism_agency_booking      0\n",
       "company_booking             0\n",
       "parking_Reservation         0\n",
       "reservation_Observations    0\n",
       "booking_canceled            0\n",
       "dtype: int64"
      ]
     },
<<<<<<< Updated upstream
     "execution_count": null,
=======
     "execution_count": 7,
>>>>>>> Stashed changes
     "metadata": {},
     "output_type": "execute_result"
    }
   ],
   "source": [
    "df.isna().sum()"
   ]
  },
  {
   "cell_type": "code",
<<<<<<< Updated upstream
   "execution_count": null,
=======
   "execution_count": 8,
>>>>>>> Stashed changes
   "metadata": {},
   "outputs": [
    {
     "data": {
      "text/plain": [
       "0"
      ]
     },
<<<<<<< Updated upstream
     "execution_count": null,
=======
     "execution_count": 8,
>>>>>>> Stashed changes
     "metadata": {},
     "output_type": "execute_result"
    }
   ],
   "source": [
    "# Verificar valores duplicados\n",
    "df.duplicated().sum()"
   ]
  },
  {
   "cell_type": "markdown",
   "metadata": {},
   "source": [
    "### Change Type"
   ]
  },
  {
   "cell_type": "code",
<<<<<<< Updated upstream
   "execution_count": null,
=======
   "execution_count": 9,
>>>>>>> Stashed changes
   "metadata": {},
   "outputs": [],
   "source": [
    "df['id'] = df['id'].astype('int64')\n",
    "\n"
   ]
  },
  {
   "cell_type": "markdown",
   "metadata": {},
   "source": [
    "### Data Praration"
   ]
  },
  {
   "cell_type": "code",
<<<<<<< Updated upstream
   "execution_count": null,
=======
   "execution_count": 10,
>>>>>>> Stashed changes
   "metadata": {},
   "outputs": [],
   "source": [
    "df2 = df.copy()"
   ]
  },
  {
   "cell_type": "markdown",
   "metadata": {},
   "source": [
    "### Rescaling"
   ]
  },
  {
   "cell_type": "code",
<<<<<<< Updated upstream
   "execution_count": null,
=======
   "execution_count": 11,
>>>>>>> Stashed changes
   "metadata": {},
   "outputs": [],
   "source": [
    "rs = RobustScaler()\n",
    "\n",
    "# meses_da_reserva_ate_o_check-in - Robust Scaler\n",
    "df2['id'] = rs.fit_transform( df2[['id']].values )\n",
    "\n",
    "# meses_da_reserva_ate_o_check-in - Robust Scaler\n",
    "df2['month_booking'] = rs.fit_transform(df2[['month_booking']].values)\n",
    "\n",
    "# numero_de_pernoites_reservadas - Robust Scaler\n",
    "df2['number_stays_booking'] = rs.fit_transform( df2[['number_stays_booking']].values)\n",
    "\n",
    "# numero_de_hospedes - Robust Scaler\n",
    "df2['number_guests'] = rs.fit_transform( df2[['number_guests']].values)"
   ]
  },
  {
   "cell_type": "markdown",
   "metadata": {},
   "source": [
    "### Transformacao"
   ]
  },
  {
   "cell_type": "code",
<<<<<<< Updated upstream
   "execution_count": null,
=======
   "execution_count": 12,
>>>>>>> Stashed changes
   "metadata": {},
   "outputs": [],
   "source": [
    "df3 = df2.copy()"
   ]
  },
  {
   "cell_type": "code",
   "execution_count": 13,
   "metadata": {},
   "outputs": [],
   "source": [
    "# # classificacao_do_hotel\n",
    "# df4['hotel_rating'] = df4['hotel_rating'].apply(lambda x: int(x.split('estrela')[1]))\n",
    "\n",
    "# # ja_se_hospedou_anterioremente\n",
    "# df4['previously_hosted'] = df4['previously_hosted'].apply(\n",
    "#     lambda x: x.replace('Sim', '1'))\n",
    "# df4['previously_hosted'] = df4['previously_hosted'].apply(\n",
    "#     lambda x: x.replace('Não', '0'))\n",
    "\n",
    "# # reserva_feita_por_agencia_de_turismo\n",
    "# df4['tourism_agency_booking'] = df4['tourism_agency_booking'].apply(\n",
    "#     lambda x: x.replace('Sim', '1'))\n",
    "# df4['tourism_agency_booking'] = df4['tourism_agency_booking'].apply(\n",
    "#     lambda x: x.replace('Não', '0'))\n",
    "\n",
    "# # reserva_com_estacionamento\n",
    "# df4['parking_Reservation'] = df4['parking_Reservation'].apply(\n",
    "#     lambda x: x.replace('Sim', '1'))\n",
    "# df4['parking_Reservation'] = df4['parking_Reservation'].apply(\n",
    "#     lambda x: x.replace('Não', '0'))\n",
    "\n",
    "# # reserva_feita_por_empresa\n",
    "# df4['company_booking'] = df4['company_booking'].apply(\n",
    "#     lambda x: x.replace('Sim', '1'))\n",
    "# df4['company_booking'] = df4['company_booking'].apply(\n",
    "#     lambda x: x.replace('Não', '0'))\n"
   ]
  },
  {
   "cell_type": "code",
   "execution_count": 14,
   "metadata": {},
   "outputs": [
    {
     "data": {
      "text/plain": [
       "array(['Café da manha e jantar', 'Café da manha', 'Sem refeicao',\n",
       "       'Café da manha, almoco e jantar'], dtype=object)"
      ]
     },
     "execution_count": 14,
     "metadata": {},
     "output_type": "execute_result"
    }
   ],
   "source": [
    "df3['meal_regime'].unique()\n"
   ]
  },
  {
   "cell_type": "code",
<<<<<<< Updated upstream
   "execution_count": null,
=======
   "execution_count": 15,
>>>>>>> Stashed changes
   "metadata": {},
   "outputs": [],
   "source": [
    "# Label Encoder\n",
    "le = LabelEncoder()\n",
    "label_cols = ['meal_regime', 'nationality', 'reservation_Form', 'type_booked_room', 'reservation_Observations']\n",
    "for col in label_cols:\n",
    "    df3[col] = le.fit_transform(df3[col])\n",
    "\n",
    "# Ordinal Encoding\n",
    "classificacao_dict = {'5 estrelas': 5, '4 estrelas': 4}\n",
    "df3['hotel_rating'] = df3['hotel_rating'].map(classificacao_dict)\n",
    "\n",
    "# Boolean\n",
    "bool_cols = ['previously_hosted','tourism_agency_booking','company_booking','parking_Reservation']\n",
    "for col in bool_cols:\n",
    "    df3[col] = df3[col].apply(\n",
    "        lambda x: 0 if x == 'Não' else 1 if x == 'Sim' else x)\n"
   ]
  },
  {
   "cell_type": "code",
<<<<<<< Updated upstream
   "execution_count": null,
=======
   "execution_count": 16,
>>>>>>> Stashed changes
   "metadata": {},
   "outputs": [],
   "source": [
    "\n",
    "# transform into int\n",
    "df3['hotel_rating'] = df3['hotel_rating'].astype('int')\n",
    "df3['previously_hosted'] = df3['previously_hosted'].astype('int')\n",
    "df3['tourism_agency_booking'] = df3['tourism_agency_booking'].astype('int')\n",
    "df3['company_booking'] = df3['company_booking'].astype('int')\n",
    "df3['parking_Reservation'] = df3['parking_Reservation'].astype('int')\n"
   ]
  },
  {
   "cell_type": "markdown",
   "metadata": {},
   "source": [
    "# Feature Selection"
   ]
  },
  {
   "cell_type": "code",
<<<<<<< Updated upstream
   "execution_count": null,
=======
   "execution_count": 17,
>>>>>>> Stashed changes
   "metadata": {},
   "outputs": [],
   "source": [
    "# Split Train Test Dataset\n",
    "df5 = df3.copy()\n",
    "X = df5.drop(columns=['booking_canceled'])\n",
    "y = df5[['booking_canceled']]\n"
   ]
  },
  {
   "cell_type": "code",
<<<<<<< Updated upstream
   "execution_count": null,
=======
   "execution_count": 18,
>>>>>>> Stashed changes
   "metadata": {},
   "outputs": [],
   "source": [
    "# train test split\n",
    "X_train, X_test, y_train, y_test = train_test_split(X, y, test_size=0.20, random_state = 42)\n"
   ]
  },
  {
   "cell_type": "code",
   "execution_count": 19,
   "metadata": {},
   "outputs": [
    {
     "data": {
      "text/plain": [
       "56850"
      ]
     },
     "execution_count": 19,
     "metadata": {},
     "output_type": "execute_result"
    }
   ],
   "source": [
    "len(X_train)"
   ]
  },
  {
   "cell_type": "code",
<<<<<<< Updated upstream
   "execution_count": null,
=======
   "execution_count": 20,
>>>>>>> Stashed changes
   "metadata": {},
   "outputs": [],
   "source": [
    "# criar objeto RandomOverSampler\n",
    "oversampler = RandomOverSampler(random_state=42)\n",
    "\n",
    "# realizar o upsampling na base de treino\n",
    "X_train, y_train = oversampler.fit_resample( X_train, y_train )"
   ]
  },
  {
   "cell_type": "markdown",
   "metadata": {},
   "source": [
    "### Boruta as Feature Selector"
   ]
  },
  {
   "cell_type": "code",
<<<<<<< Updated upstream
   "execution_count": null,
=======
   "execution_count": 21,
>>>>>>> Stashed changes
   "metadata": {},
   "outputs": [
    {
     "name": "stdout",
     "output_type": "stream",
     "text": [
      "Iteration: \t1 / 100\n",
      "Confirmed: \t0\n",
      "Tentative: \t14\n",
      "Rejected: \t0\n",
      "Iteration: \t2 / 100\n",
      "Confirmed: \t0\n",
      "Tentative: \t14\n",
      "Rejected: \t0\n",
      "Iteration: \t3 / 100\n",
      "Confirmed: \t0\n",
      "Tentative: \t14\n",
      "Rejected: \t0\n",
      "Iteration: \t4 / 100\n",
      "Confirmed: \t0\n",
      "Tentative: \t14\n",
      "Rejected: \t0\n",
      "Iteration: \t5 / 100\n",
      "Confirmed: \t0\n",
      "Tentative: \t14\n",
      "Rejected: \t0\n",
      "Iteration: \t6 / 100\n",
      "Confirmed: \t0\n",
      "Tentative: \t14\n",
      "Rejected: \t0\n",
      "Iteration: \t7 / 100\n",
      "Confirmed: \t0\n",
      "Tentative: \t14\n",
      "Rejected: \t0\n",
      "Iteration: \t8 / 100\n",
      "Confirmed: \t6\n",
      "Tentative: \t1\n",
      "Rejected: \t7\n",
      "Iteration: \t9 / 100\n",
      "Confirmed: \t6\n",
      "Tentative: \t1\n",
      "Rejected: \t7\n",
      "Iteration: \t10 / 100\n",
      "Confirmed: \t6\n",
      "Tentative: \t1\n",
      "Rejected: \t7\n",
      "Iteration: \t11 / 100\n",
      "Confirmed: \t6\n",
      "Tentative: \t1\n",
      "Rejected: \t7\n",
      "Iteration: \t12 / 100\n",
      "Confirmed: \t6\n",
      "Tentative: \t0\n",
      "Rejected: \t8\n",
      "\n",
      "\n",
      "BorutaPy finished running.\n",
      "\n",
      "Iteration: \t13 / 100\n",
      "Confirmed: \t6\n",
      "Tentative: \t0\n",
      "Rejected: \t8\n"
     ]
    }
   ],
   "source": [
    "#define RandomForestRegressor\n",
    "clf = RandomForestClassifier(n_estimators=1000, n_jobs=-1)\n",
    "\n",
    "# define Boruta\n",
    "boruta = BorutaPy(clf, n_estimators='auto',verbose=2,random_state=0).fit(X_train.values, y_train.values)"
   ]
  },
  {
   "cell_type": "markdown",
   "metadata": {},
   "source": [
    "## Best Features from Boruta"
   ]
  },
  {
   "cell_type": "code",
   "execution_count": 22,
   "metadata": {},
   "outputs": [],
   "source": [
    "cols_selected_boruta = boruta.support_.tolist()\n",
    "cols_selected_boruta = X_train.iloc[:,cols_selected_boruta].columns.tolist()"
   ]
  },
  {
   "attachments": {},
   "cell_type": "markdown",
   "metadata": {},
   "source": [
    "## Best Features from Random Forest"
   ]
  },
  {
   "cell_type": "code",
   "execution_count": 23,
   "metadata": {},
   "outputs": [],
   "source": [
    "clf = RandomForestClassifier(n_estimators=1000, n_jobs=-1)\n",
    "model = clf.fit(X_train.values, y_train.values)"
   ]
  },
  {
   "cell_type": "code",
   "execution_count": 24,
   "metadata": {},
   "outputs": [
    {
     "data": {
      "image/png": "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",
      "text/plain": [
       "<Figure size 640x480 with 1 Axes>"
      ]
     },
     "metadata": {},
     "output_type": "display_data"
    }
   ],
   "source": [
    "import time\n",
    "import numpy as np\n",
    "import pandas as pd\n",
    "\n",
    "importances = model.feature_importances_\n",
    "feature_names = [x for x in X_train.columns]\n",
    "\n",
    "forest_importances = pd.Series(importances, index=feature_names)\n",
    "forest_importances_sorted = forest_importances.sort_values(ascending= False) # add this line to sort the values\n",
    "\n",
    "start_time = time.time()\n",
    "importances = model.feature_importances_\n",
    "std = np.std([tree.feature_importances_ for tree in model.estimators_], axis=0)\n",
    "elapsed_time = time.time() - start_time\n",
    "\n",
    "\n",
    "fig, ax = plt.subplots()\n",
    "forest_importances_sorted.plot.bar(yerr=std, ax=ax)\n",
    "ax.set_title(\"Feature importances using MDI\")\n",
    "ax.set_ylabel(\"Mean decrease in impurity\")\n",
    "fig.tight_layout()\n"
   ]
  },
  {
   "cell_type": "markdown",
   "metadata": {},
   "source": [
    "## Manual Features"
   ]
  },
  {
   "cell_type": "code",
<<<<<<< Updated upstream
   "execution_count": null,
=======
   "execution_count": 25,
>>>>>>> Stashed changes
   "metadata": {},
   "outputs": [],
   "source": [
    "cols_select = ['id','hotel_rating','month_booking','nationality','parking_Reservation', 'reservation_Observations', 'number_stays_booking', 'reservation_Form']\n"
   ]
  },
  {
   "cell_type": "markdown",
   "metadata": {},
   "source": [
    "#  Machine Learning Model"
   ]
  },
  {
   "cell_type": "code",
<<<<<<< Updated upstream
   "execution_count": 68,
   "metadata": {},
   "outputs": [],
   "source": [
    "df5 = df3.copy()\n",
    "X = df5.drop(columns=['booking_canceled'])\n",
    "y = df5[['booking_canceled']]\n",
    "X_train, X_test, y_train, y_test = train_test_split(X, y, test_size=0.20, random_state = 42)\n",
    "\n",
    "X_train = X_train[cols_select]\n",
    "X_test = X_test[cols_select]\n"
=======
   "execution_count": 26,
   "metadata": {},
   "outputs": [],
   "source": [
    "x_train = X_train[cols_select]\n",
    "x_test = X_test[cols_select]\n"
   ]
  },
  {
   "cell_type": "markdown",
   "metadata": {},
   "source": [
    "### KNN"
   ]
  },
  {
   "cell_type": "code",
   "execution_count": 27,
   "metadata": {},
   "outputs": [
    {
     "name": "stdout",
     "output_type": "stream",
     "text": [
      "K = 4\n",
      "F-Score = 91.08%\n"
     ]
    }
   ],
   "source": [
    "# model definition\n",
    "result_list = []\n",
    "\n",
    "# Choose k number\n",
    "for k in range(3, 15):\n",
    "\n",
    "    knn_model = KNeighborsClassifier(n_neighbors=k)\n",
    "\n",
    "    # model training\n",
    "    knn_model.fit(x_train, y_train)\n",
    "\n",
    "    # model classifier\n",
    "    y_pred = knn_model.predict(x_test)\n",
    "\n",
    "    # performance\n",
    "    f_score_knn = f1_score(y_test, y_pred, average='macro')\n",
    "\n",
    "    result_list.append({\"k\": k, \"f_score\": f_score_knn})\n",
    "\n",
    "# K with highest score\n",
    "k = max(result_list, key=lambda x: x['f_score'])['k']\n",
    "f_score_knn = max(result_list, key=lambda x: x['f_score'])['f_score']\n",
    "print(f\"K = {k}\\nF-Score = {f_score_knn:.2%}\")\n"
   ]
  },
  {
   "cell_type": "markdown",
   "metadata": {},
   "source": [
    "### 6.1. XGBoost"
>>>>>>> Stashed changes
   ]
  },
  {
   "cell_type": "code",
<<<<<<< Updated upstream
   "execution_count": 59,
=======
   "execution_count": 28,
   "metadata": {},
   "outputs": [],
   "source": [
    "# model definition\n",
    "xgb_model = GradientBoostingClassifier(\n",
    "    n_estimators=1500, max_depth=10, subsample=0.8)\n",
    "\n",
    "# model training\n",
    "xgb_model.fit(x_train, y_train)\n",
    "\n",
    "# model classifier\n",
    "y_pred_xgb = xgb_model.predict(x_test)\n"
   ]
  },
  {
   "cell_type": "markdown",
   "metadata": {},
   "source": [
    "### Xgboost Performae "
   ]
  },
  {
   "cell_type": "code",
   "execution_count": 29,
   "metadata": {},
   "outputs": [
    {
     "name": "stdout",
     "output_type": "stream",
     "text": [
      "F-score XGBoost: 96.84%\n"
     ]
    }
   ],
   "source": [
    "# performance\n",
    "f_score_xgb = f1_score( y_test, y_pred_xgb, average= 'macro')\n",
    "\n",
    "print( f'F-score XGBoost: {f_score_xgb:.2%}' )"
   ]
  },
  {
   "cell_type": "markdown",
   "metadata": {},
   "source": [
    "## Categorical Boost (Cat Boost)"
   ]
  },
  {
   "cell_type": "code",
   "execution_count": 30,
   "metadata": {},
   "outputs": [],
   "source": [
    "# model definition\n",
    "cat_model = CatBoostClassifier(iterations=1000, learning_rate=0.2)\n",
    "\n",
    "# model training\n",
    "cat_model.fit(x_train, y_train, verbose=False)\n",
    "\n",
    "\n",
    "# model classifier\n",
    "y_pred_cat = cat_model.predict(x_test)\n"
   ]
  },
  {
   "cell_type": "code",
   "execution_count": 31,
   "metadata": {},
   "outputs": [
    {
     "name": "stdout",
     "output_type": "stream",
     "text": [
      "F-score CatBoost: 96.48%\n"
     ]
    }
   ],
   "source": [
    "# performance\n",
    "f_score_cat = f1_score( y_test, y_pred_cat, average= 'macro')\n",
    "\n",
    "print( f'F-score CatBoost: {f_score_cat:.2%}' )"
   ]
  },
  {
   "cell_type": "markdown",
   "metadata": {},
   "source": [
    "### 6.2. Logistic Regression"
   ]
  },
  {
   "cell_type": "code",
   "execution_count": 32,
   "metadata": {},
   "outputs": [],
   "source": [
    "# model definition\n",
    "lr_model = LogisticRegression()\n",
    "\n",
    "# model training\n",
    "lr_model.fit(x_train, y_train)\n",
    "\n",
    "# model classifier\n",
    "y_pred_lr = lr_model.predict(x_test)\n"
   ]
  },
  {
   "cell_type": "code",
   "execution_count": 33,
   "metadata": {},
   "outputs": [
    {
     "name": "stdout",
     "output_type": "stream",
     "text": [
      "F-score knn: 87.37%\n"
     ]
    }
   ],
   "source": [
    "# performance\n",
    "f_score_lr = f1_score( y_test, y_pred_lr, average= 'macro')\n",
    "print( f'F-score knn: {f_score_lr:.2%}' )"
   ]
  },
  {
   "cell_type": "code",
   "execution_count": 34,
   "metadata": {},
   "outputs": [],
   "source": [
    "# Naive Bayes"
   ]
  },
  {
   "cell_type": "code",
   "execution_count": 35,
   "metadata": {},
   "outputs": [],
   "source": [
    "# model definition\n",
    "nb_model = BernoulliNB()\n",
    "\n",
    "# model training\n",
    "nb_model.fit(x_train, y_train)\n",
    "\n",
    "# model classifier\n",
    "y_pred_nb = nb_model.predict(x_test)\n"
   ]
  },
  {
   "cell_type": "code",
   "execution_count": 36,
   "metadata": {},
   "outputs": [
    {
     "name": "stdout",
     "output_type": "stream",
     "text": [
      "F-score Naive Bayes: 67.29%\n"
     ]
    }
   ],
   "source": [
    "# performance\n",
    "f_score_nb = f1_score( y_test, y_pred_nb, average= 'macro')\n",
    "\n",
    "print( f'F-score Naive Bayes: {f_score_nb:.2%}' )"
   ]
  },
  {
   "cell_type": "markdown",
   "metadata": {},
   "source": [
    "## Decision Tree"
   ]
  },
  {
   "cell_type": "code",
   "execution_count": 37,
   "metadata": {},
   "outputs": [],
   "source": [
    "# Crie uma instância do classificador de árvore de decisão\n",
    "clf = tree.DecisionTreeClassifier()\n",
    "\n",
    "# Treine o classificador usando os dados de treinamento\n",
    "clf.fit(x_train, y_train)\n",
    "\n",
    "# Faça previsões usando o conjunto de teste\n",
    "y_pred_clf = clf.predict(x_test)\n"
   ]
  },
  {
   "cell_type": "code",
   "execution_count": 38,
   "metadata": {},
   "outputs": [
    {
     "name": "stdout",
     "output_type": "stream",
     "text": [
      "F-score Decision Tree: 96.29%\n"
     ]
    }
   ],
   "source": [
    "# performance\n",
    "f_score_clf = f1_score( y_test, y_pred_clf, average= 'macro')\n",
    "\n",
    "print( f'F-score Decision Tree: {f_score_clf:.2%}' )"
   ]
  },
  {
   "cell_type": "code",
   "execution_count": 39,
>>>>>>> Stashed changes
   "metadata": {},
   "outputs": [],
   "source": [
    "def train_models(X_train, y_train, X_test, y_test):\n",
    "    # Inicializa os modelos\n",
    "    rf = RandomForestClassifier(random_state=42)\n",
    "    xgb = XGBClassifier(random_state=42)\n",
    "\n",
    "    # Treina os modelos\n",
    "    rf.fit(X_train, y_train)\n",
    "    xgb.fit(X_train, y_train)\n",
    "\n",
    "    # Faz as previsões\n",
    "    rf_pred = rf.predict(X_test)\n",
    "    xgb_pred = xgb.predict(X_test)\n",
    "\n",
    "    # Calcula o f1_score\n",
    "    rf_f1 = f1_score(y_test, rf_pred)\n",
    "    xgb_f1 = f1_score(y_test, xgb_pred)\n",
    "\n",
    "    # Cria a tabela\n",
    "    tabela = pd.DataFrame({\n",
    "        'Algoritmo': ['Random Forest', 'XGBoost'],\n",
    "        'f1_score': [rf_f1, xgb_f1]\n",
    "    })\n",
    "\n",
    "    return tabela\n"
   ]
  },
  {
   "cell_type": "code",
<<<<<<< Updated upstream
   "execution_count": null,
=======
   "execution_count": 40,
>>>>>>> Stashed changes
   "metadata": {},
   "outputs": [
    {
     "name": "stderr",
     "output_type": "stream",
     "text": [
      "<<<<<<< local\n"
     ]
    },
    {
     "name": "stdout",
     "output_type": "stream",
     "text": [
      "       Algoritmo  F1 Score\n",
      "0  Random Forest  0.958215\n",
      "1        XGBoost  0.962871\n"
     ]
    },
    {
     "name": "stderr",
     "output_type": "stream",
     "text": [
      "=======\n"
     ]
    },
    {
     "name": "stdout",
     "output_type": "stream",
     "text": [
      "       Algoritmo  f1_score\n",
      "0  Random Forest  0.958195\n",
      "1        XGBoost  0.959790\n"
     ]
    },
    {
     "name": "stderr",
     "output_type": "stream",
     "text": [
      ">>>>>>> remote\n"
     ]
    }
   ],
   "source": [
    "\n",
    "tabela = train_models(X_train, X_test, y_train, y_test)\n",
    "print(tabela)\n"
   ]
  },
  {
   "cell_type": "markdown",
   "metadata": {},
   "source": [
    "# XGBoost Hyperparameter Fine Tuning\n"
   ]
  },
  {
   "cell_type": "code",
   "execution_count": 41,
   "metadata": {},
   "outputs": [
    {
     "name": "stdout",
     "output_type": "stream",
     "text": [
      "Start: 03-05-2023 01:03:16\n"
     ]
    }
   ],
   "source": [
    "t_start = time.time()\n",
    "print('Start:',datetime.datetime.now().strftime('%d-%m-%Y %H:%M:%S'))"
   ]
  },
  {
   "cell_type": "code",
   "execution_count": 42,
   "metadata": {},
   "outputs": [
    {
     "name": "stderr",
     "output_type": "stream",
     "text": [
      "/Users/hallanmiranda/.pyenv/versions/3.10.6/lib/python3.10/site-packages/sklearn/ensemble/_gb.py:437: DataConversionWarning: A column-vector y was passed when a 1d array was expected. Please change the shape of y to (n_samples, ), for example using ravel().\n",
      "  y = column_or_1d(y, warn=True)\n",
      "/Users/hallanmiranda/.pyenv/versions/3.10.6/lib/python3.10/site-packages/sklearn/ensemble/_gb.py:437: DataConversionWarning: A column-vector y was passed when a 1d array was expected. Please change the shape of y to (n_samples, ), for example using ravel().\n",
      "  y = column_or_1d(y, warn=True)\n",
      "/Users/hallanmiranda/.pyenv/versions/3.10.6/lib/python3.10/site-packages/sklearn/ensemble/_gb.py:437: DataConversionWarning: A column-vector y was passed when a 1d array was expected. Please change the shape of y to (n_samples, ), for example using ravel().\n",
      "  y = column_or_1d(y, warn=True)\n",
      "/Users/hallanmiranda/.pyenv/versions/3.10.6/lib/python3.10/site-packages/sklearn/ensemble/_gb.py:437: DataConversionWarning: A column-vector y was passed when a 1d array was expected. Please change the shape of y to (n_samples, ), for example using ravel().\n",
      "  y = column_or_1d(y, warn=True)\n"
     ]
    },
    {
     "ename": "KeyboardInterrupt",
     "evalue": "",
     "output_type": "error",
     "traceback": [
      "\u001b[0;31m---------------------------------------------------------------------------\u001b[0m",
      "\u001b[0;31mKeyboardInterrupt\u001b[0m                         Traceback (most recent call last)",
      "Cell \u001b[0;32mIn [42], line 24\u001b[0m\n\u001b[1;32m     16\u001b[0m \u001b[38;5;66;03m# use RandomizedSearchCV to find the best hyperparameter combination.\u001b[39;00m\n\u001b[1;32m     17\u001b[0m random_search \u001b[38;5;241m=\u001b[39m RandomizedSearchCV(GradientBoostingClassifier(),\n\u001b[1;32m     18\u001b[0m                                    param_distributions\u001b[38;5;241m=\u001b[39mparam,\n\u001b[1;32m     19\u001b[0m                                    cv\u001b[38;5;241m=\u001b[39m\u001b[38;5;241m5\u001b[39m,\n\u001b[0;32m   (...)\u001b[0m\n\u001b[1;32m     22\u001b[0m                                    random_state\u001b[38;5;241m=\u001b[39m\u001b[38;5;241m32\u001b[39m,\n\u001b[1;32m     23\u001b[0m                                    n_jobs\u001b[38;5;241m=\u001b[39m\u001b[38;5;241m-\u001b[39m\u001b[38;5;241m1\u001b[39m)\n\u001b[0;32m---> 24\u001b[0m \u001b[43mrandom_search\u001b[49m\u001b[38;5;241;43m.\u001b[39;49m\u001b[43mfit\u001b[49m\u001b[43m(\u001b[49m\u001b[43mX\u001b[49m\u001b[38;5;241;43m.\u001b[39;49m\u001b[43mvalues\u001b[49m\u001b[43m,\u001b[49m\u001b[43m \u001b[49m\u001b[43my\u001b[49m\u001b[38;5;241;43m.\u001b[39;49m\u001b[43mvalues\u001b[49m\u001b[43m,\u001b[49m\u001b[43m \u001b[49m\u001b[43msample_weight\u001b[49m\u001b[38;5;241;43m=\u001b[39;49m\u001b[43msample_weights\u001b[49m\u001b[43m)\u001b[49m\n\u001b[1;32m     26\u001b[0m \u001b[38;5;66;03m# print the best hyperparameter combination and its F-score (macro).\u001b[39;00m\n\u001b[1;32m     27\u001b[0m \u001b[38;5;28mprint\u001b[39m(\u001b[38;5;124m\"\u001b[39m\u001b[38;5;124mBest hyperparameter:\u001b[39m\u001b[38;5;124m\"\u001b[39m, random_search\u001b[38;5;241m.\u001b[39mbest_params_)\n",
      "File \u001b[0;32m~/.pyenv/versions/3.10.6/lib/python3.10/site-packages/sklearn/model_selection/_search.py:874\u001b[0m, in \u001b[0;36mBaseSearchCV.fit\u001b[0;34m(self, X, y, groups, **fit_params)\u001b[0m\n\u001b[1;32m    868\u001b[0m     results \u001b[39m=\u001b[39m \u001b[39mself\u001b[39m\u001b[39m.\u001b[39m_format_results(\n\u001b[1;32m    869\u001b[0m         all_candidate_params, n_splits, all_out, all_more_results\n\u001b[1;32m    870\u001b[0m     )\n\u001b[1;32m    872\u001b[0m     \u001b[39mreturn\u001b[39;00m results\n\u001b[0;32m--> 874\u001b[0m \u001b[39mself\u001b[39;49m\u001b[39m.\u001b[39;49m_run_search(evaluate_candidates)\n\u001b[1;32m    876\u001b[0m \u001b[39m# multimetric is determined here because in the case of a callable\u001b[39;00m\n\u001b[1;32m    877\u001b[0m \u001b[39m# self.scoring the return type is only known after calling\u001b[39;00m\n\u001b[1;32m    878\u001b[0m first_test_score \u001b[39m=\u001b[39m all_out[\u001b[39m0\u001b[39m][\u001b[39m\"\u001b[39m\u001b[39mtest_scores\u001b[39m\u001b[39m\"\u001b[39m]\n",
      "File \u001b[0;32m~/.pyenv/versions/3.10.6/lib/python3.10/site-packages/sklearn/model_selection/_search.py:1768\u001b[0m, in \u001b[0;36mRandomizedSearchCV._run_search\u001b[0;34m(self, evaluate_candidates)\u001b[0m\n\u001b[1;32m   1766\u001b[0m \u001b[39mdef\u001b[39;00m \u001b[39m_run_search\u001b[39m(\u001b[39mself\u001b[39m, evaluate_candidates):\n\u001b[1;32m   1767\u001b[0m \u001b[39m    \u001b[39m\u001b[39m\"\"\"Search n_iter candidates from param_distributions\"\"\"\u001b[39;00m\n\u001b[0;32m-> 1768\u001b[0m     evaluate_candidates(\n\u001b[1;32m   1769\u001b[0m         ParameterSampler(\n\u001b[1;32m   1770\u001b[0m             \u001b[39mself\u001b[39;49m\u001b[39m.\u001b[39;49mparam_distributions, \u001b[39mself\u001b[39;49m\u001b[39m.\u001b[39;49mn_iter, random_state\u001b[39m=\u001b[39;49m\u001b[39mself\u001b[39;49m\u001b[39m.\u001b[39;49mrandom_state\n\u001b[1;32m   1771\u001b[0m         )\n\u001b[1;32m   1772\u001b[0m     )\n",
      "File \u001b[0;32m~/.pyenv/versions/3.10.6/lib/python3.10/site-packages/sklearn/model_selection/_search.py:821\u001b[0m, in \u001b[0;36mBaseSearchCV.fit.<locals>.evaluate_candidates\u001b[0;34m(candidate_params, cv, more_results)\u001b[0m\n\u001b[1;32m    813\u001b[0m \u001b[39mif\u001b[39;00m \u001b[39mself\u001b[39m\u001b[39m.\u001b[39mverbose \u001b[39m>\u001b[39m \u001b[39m0\u001b[39m:\n\u001b[1;32m    814\u001b[0m     \u001b[39mprint\u001b[39m(\n\u001b[1;32m    815\u001b[0m         \u001b[39m\"\u001b[39m\u001b[39mFitting \u001b[39m\u001b[39m{0}\u001b[39;00m\u001b[39m folds for each of \u001b[39m\u001b[39m{1}\u001b[39;00m\u001b[39m candidates,\u001b[39m\u001b[39m\"\u001b[39m\n\u001b[1;32m    816\u001b[0m         \u001b[39m\"\u001b[39m\u001b[39m totalling \u001b[39m\u001b[39m{2}\u001b[39;00m\u001b[39m fits\u001b[39m\u001b[39m\"\u001b[39m\u001b[39m.\u001b[39mformat(\n\u001b[1;32m    817\u001b[0m             n_splits, n_candidates, n_candidates \u001b[39m*\u001b[39m n_splits\n\u001b[1;32m    818\u001b[0m         )\n\u001b[1;32m    819\u001b[0m     )\n\u001b[0;32m--> 821\u001b[0m out \u001b[39m=\u001b[39m parallel(\n\u001b[1;32m    822\u001b[0m     delayed(_fit_and_score)(\n\u001b[1;32m    823\u001b[0m         clone(base_estimator),\n\u001b[1;32m    824\u001b[0m         X,\n\u001b[1;32m    825\u001b[0m         y,\n\u001b[1;32m    826\u001b[0m         train\u001b[39m=\u001b[39;49mtrain,\n\u001b[1;32m    827\u001b[0m         test\u001b[39m=\u001b[39;49mtest,\n\u001b[1;32m    828\u001b[0m         parameters\u001b[39m=\u001b[39;49mparameters,\n\u001b[1;32m    829\u001b[0m         split_progress\u001b[39m=\u001b[39;49m(split_idx, n_splits),\n\u001b[1;32m    830\u001b[0m         candidate_progress\u001b[39m=\u001b[39;49m(cand_idx, n_candidates),\n\u001b[1;32m    831\u001b[0m         \u001b[39m*\u001b[39;49m\u001b[39m*\u001b[39;49mfit_and_score_kwargs,\n\u001b[1;32m    832\u001b[0m     )\n\u001b[1;32m    833\u001b[0m     \u001b[39mfor\u001b[39;49;00m (cand_idx, parameters), (split_idx, (train, test)) \u001b[39min\u001b[39;49;00m product(\n\u001b[1;32m    834\u001b[0m         \u001b[39menumerate\u001b[39;49m(candidate_params), \u001b[39menumerate\u001b[39;49m(cv\u001b[39m.\u001b[39;49msplit(X, y, groups))\n\u001b[1;32m    835\u001b[0m     )\n\u001b[1;32m    836\u001b[0m )\n\u001b[1;32m    838\u001b[0m \u001b[39mif\u001b[39;00m \u001b[39mlen\u001b[39m(out) \u001b[39m<\u001b[39m \u001b[39m1\u001b[39m:\n\u001b[1;32m    839\u001b[0m     \u001b[39mraise\u001b[39;00m \u001b[39mValueError\u001b[39;00m(\n\u001b[1;32m    840\u001b[0m         \u001b[39m\"\u001b[39m\u001b[39mNo fits were performed. \u001b[39m\u001b[39m\"\u001b[39m\n\u001b[1;32m    841\u001b[0m         \u001b[39m\"\u001b[39m\u001b[39mWas the CV iterator empty? \u001b[39m\u001b[39m\"\u001b[39m\n\u001b[1;32m    842\u001b[0m         \u001b[39m\"\u001b[39m\u001b[39mWere there no candidates?\u001b[39m\u001b[39m\"\u001b[39m\n\u001b[1;32m    843\u001b[0m     )\n",
      "File \u001b[0;32m~/.pyenv/versions/3.10.6/lib/python3.10/site-packages/sklearn/utils/parallel.py:63\u001b[0m, in \u001b[0;36mParallel.__call__\u001b[0;34m(self, iterable)\u001b[0m\n\u001b[1;32m     58\u001b[0m config \u001b[39m=\u001b[39m get_config()\n\u001b[1;32m     59\u001b[0m iterable_with_config \u001b[39m=\u001b[39m (\n\u001b[1;32m     60\u001b[0m     (_with_config(delayed_func, config), args, kwargs)\n\u001b[1;32m     61\u001b[0m     \u001b[39mfor\u001b[39;00m delayed_func, args, kwargs \u001b[39min\u001b[39;00m iterable\n\u001b[1;32m     62\u001b[0m )\n\u001b[0;32m---> 63\u001b[0m \u001b[39mreturn\u001b[39;00m \u001b[39msuper\u001b[39;49m()\u001b[39m.\u001b[39;49m\u001b[39m__call__\u001b[39;49m(iterable_with_config)\n",
      "File \u001b[0;32m~/.pyenv/versions/3.10.6/lib/python3.10/site-packages/joblib/parallel.py:1098\u001b[0m, in \u001b[0;36mParallel.__call__\u001b[0;34m(self, iterable)\u001b[0m\n\u001b[1;32m   1095\u001b[0m     \u001b[39mself\u001b[39m\u001b[39m.\u001b[39m_iterating \u001b[39m=\u001b[39m \u001b[39mFalse\u001b[39;00m\n\u001b[1;32m   1097\u001b[0m \u001b[39mwith\u001b[39;00m \u001b[39mself\u001b[39m\u001b[39m.\u001b[39m_backend\u001b[39m.\u001b[39mretrieval_context():\n\u001b[0;32m-> 1098\u001b[0m     \u001b[39mself\u001b[39;49m\u001b[39m.\u001b[39;49mretrieve()\n\u001b[1;32m   1099\u001b[0m \u001b[39m# Make sure that we get a last message telling us we are done\u001b[39;00m\n\u001b[1;32m   1100\u001b[0m elapsed_time \u001b[39m=\u001b[39m time\u001b[39m.\u001b[39mtime() \u001b[39m-\u001b[39m \u001b[39mself\u001b[39m\u001b[39m.\u001b[39m_start_time\n",
      "File \u001b[0;32m~/.pyenv/versions/3.10.6/lib/python3.10/site-packages/joblib/parallel.py:975\u001b[0m, in \u001b[0;36mParallel.retrieve\u001b[0;34m(self)\u001b[0m\n\u001b[1;32m    973\u001b[0m \u001b[39mtry\u001b[39;00m:\n\u001b[1;32m    974\u001b[0m     \u001b[39mif\u001b[39;00m \u001b[39mgetattr\u001b[39m(\u001b[39mself\u001b[39m\u001b[39m.\u001b[39m_backend, \u001b[39m'\u001b[39m\u001b[39msupports_timeout\u001b[39m\u001b[39m'\u001b[39m, \u001b[39mFalse\u001b[39;00m):\n\u001b[0;32m--> 975\u001b[0m         \u001b[39mself\u001b[39m\u001b[39m.\u001b[39m_output\u001b[39m.\u001b[39mextend(job\u001b[39m.\u001b[39;49mget(timeout\u001b[39m=\u001b[39;49m\u001b[39mself\u001b[39;49m\u001b[39m.\u001b[39;49mtimeout))\n\u001b[1;32m    976\u001b[0m     \u001b[39melse\u001b[39;00m:\n\u001b[1;32m    977\u001b[0m         \u001b[39mself\u001b[39m\u001b[39m.\u001b[39m_output\u001b[39m.\u001b[39mextend(job\u001b[39m.\u001b[39mget())\n",
      "File \u001b[0;32m~/.pyenv/versions/3.10.6/lib/python3.10/site-packages/joblib/_parallel_backends.py:567\u001b[0m, in \u001b[0;36mLokyBackend.wrap_future_result\u001b[0;34m(future, timeout)\u001b[0m\n\u001b[1;32m    564\u001b[0m \u001b[39m\u001b[39m\u001b[39m\"\"\"Wrapper for Future.result to implement the same behaviour as\u001b[39;00m\n\u001b[1;32m    565\u001b[0m \u001b[39mAsyncResults.get from multiprocessing.\"\"\"\u001b[39;00m\n\u001b[1;32m    566\u001b[0m \u001b[39mtry\u001b[39;00m:\n\u001b[0;32m--> 567\u001b[0m     \u001b[39mreturn\u001b[39;00m future\u001b[39m.\u001b[39;49mresult(timeout\u001b[39m=\u001b[39;49mtimeout)\n\u001b[1;32m    568\u001b[0m \u001b[39mexcept\u001b[39;00m CfTimeoutError \u001b[39mas\u001b[39;00m e:\n\u001b[1;32m    569\u001b[0m     \u001b[39mraise\u001b[39;00m \u001b[39mTimeoutError\u001b[39;00m \u001b[39mfrom\u001b[39;00m \u001b[39me\u001b[39;00m\n",
      "File \u001b[0;32m~/.pyenv/versions/3.10.6/lib/python3.10/concurrent/futures/_base.py:453\u001b[0m, in \u001b[0;36mFuture.result\u001b[0;34m(self, timeout)\u001b[0m\n\u001b[1;32m    450\u001b[0m \u001b[39melif\u001b[39;00m \u001b[39mself\u001b[39m\u001b[39m.\u001b[39m_state \u001b[39m==\u001b[39m FINISHED:\n\u001b[1;32m    451\u001b[0m     \u001b[39mreturn\u001b[39;00m \u001b[39mself\u001b[39m\u001b[39m.\u001b[39m__get_result()\n\u001b[0;32m--> 453\u001b[0m \u001b[39mself\u001b[39;49m\u001b[39m.\u001b[39;49m_condition\u001b[39m.\u001b[39;49mwait(timeout)\n\u001b[1;32m    455\u001b[0m \u001b[39mif\u001b[39;00m \u001b[39mself\u001b[39m\u001b[39m.\u001b[39m_state \u001b[39min\u001b[39;00m [CANCELLED, CANCELLED_AND_NOTIFIED]:\n\u001b[1;32m    456\u001b[0m     \u001b[39mraise\u001b[39;00m CancelledError()\n",
      "File \u001b[0;32m~/.pyenv/versions/3.10.6/lib/python3.10/threading.py:320\u001b[0m, in \u001b[0;36mCondition.wait\u001b[0;34m(self, timeout)\u001b[0m\n\u001b[1;32m    318\u001b[0m \u001b[39mtry\u001b[39;00m:    \u001b[39m# restore state no matter what (e.g., KeyboardInterrupt)\u001b[39;00m\n\u001b[1;32m    319\u001b[0m     \u001b[39mif\u001b[39;00m timeout \u001b[39mis\u001b[39;00m \u001b[39mNone\u001b[39;00m:\n\u001b[0;32m--> 320\u001b[0m         waiter\u001b[39m.\u001b[39;49macquire()\n\u001b[1;32m    321\u001b[0m         gotit \u001b[39m=\u001b[39m \u001b[39mTrue\u001b[39;00m\n\u001b[1;32m    322\u001b[0m     \u001b[39melse\u001b[39;00m:\n",
      "\u001b[0;31mKeyboardInterrupt\u001b[0m: "
     ]
    }
   ],
   "source": [
    "param = {'learning_rate': [0.01, 0.05, 0.1],\n",
    "         'max_depth': [3, 4, 5, 10],\n",
    "         'n_estimators': [100, 500, 1000],\n",
    "         'subsample': [0.1, 0.3, 0.8]}\n",
    "# Calculate weights\n",
    "\n",
    "# y array of weights\n",
    "sample_weights = compute_sample_weight(class_weight='balanced', y=y)\n",
    "\n",
    "# dict of weights\n",
    "n_classes = len(np.unique(y))\n",
    "weight_0 = len(y) / (n_classes * y.value_counts()[0])\n",
    "weight_1 = len(y) / (n_classes * y.value_counts()[1])\n",
    "class_weights = {0: weight_0, 1: weight_1}\n",
    "\n",
    "# use RandomizedSearchCV to find the best hyperparameter combination.\n",
    "random_search = RandomizedSearchCV(GradientBoostingClassifier(),\n",
    "                                   param_distributions=param,\n",
    "                                   cv=5,\n",
    "                                   n_iter=20,\n",
    "                                   scoring='f1_macro',\n",
    "                                   random_state=32,\n",
    "                                   n_jobs=-1)\n",
    "random_search.fit(X.values, y.values, sample_weight=sample_weights)\n",
    "\n",
    "# print the best hyperparameter combination and its F-score (macro).\n",
    "print(\"Best hyperparameter:\", random_search.best_params_)\n",
    "print(f\"Best F-score (macro): {random_search.best_score_:.2%}\")\n"
   ]
  },
  {
   "cell_type": "code",
   "execution_count": null,
   "metadata": {},
   "outputs": [
    {
     "name": "stdout",
     "output_type": "stream",
     "text": [
      "End: 05-04-2023 00:25:25\n",
      "Fine tuning execution time: 01:57:29\n"
     ]
    }
   ],
   "source": [
    "\n",
    "\n",
    "\n",
    "duration = time.time()-t_start\n",
    "h = '{:02d}'.format(int(duration//3600))\n",
    "m = '{:02d}'.format(int((duration % 3600)//60))\n",
    "s = '{:02d}'.format(int(duration % 60))\n",
    "\n",
    "print('End:', datetime.datetime.now().strftime('%d-%m-%Y %H:%M:%S'))\n",
    "print(f'Fine tuning execution time: {h}:{m}:{s}')\n"
   ]
  },
  {
   "cell_type": "markdown",
   "metadata": {},
   "source": [
    "## 6.4. Random Forest"
   ]
  },
  {
   "cell_type": "code",
   "execution_count": null,
   "metadata": {},
   "outputs": [],
   "source": [
    "# model definition\n",
    "rf_model = RandomForestClassifier(n_estimators=100, n_jobs=-1, random_state=42)\n",
    "\n",
    "# model training\n",
    "rf_model.fit(x_train, y_train)\n",
    "\n",
    "# model classifier\n",
    "y_pred_rf = rf_model.predict(x_test)\n"
   ]
  },
  {
   "cell_type": "code",
   "execution_count": null,
   "metadata": {},
   "outputs": [
    {
     "name": "stdout",
     "output_type": "stream",
     "text": [
      "F-score Random Forest: 96.68%\n"
     ]
    }
   ],
   "source": [
    "# performance\n",
    "f_score_rf = f1_score( y_test, y_pred_rf, average= 'macro')\n",
    "\n",
    "print( f'F-score Random Forest: {f_score_rf:.2%}' )"
   ]
  },
  {
   "cell_type": "markdown",
   "metadata": {},
   "source": [
    "## Categorical Boost (Cat Boost)"
   ]
  },
  {
   "cell_type": "code",
   "execution_count": null,
   "metadata": {},
   "outputs": [],
   "source": [
    "# model definition\n",
    "cat_model = CatBoostClassifier(iterations=1000, learning_rate=0.2)\n",
    "\n",
    "# model training\n",
    "cat_model.fit(x_train, y_train, verbose=False)\n",
    "\n",
    "\n",
    "# model classifier\n",
    "y_pred_cat = cat_model.predict(x_test)\n"
   ]
  },
  {
   "cell_type": "markdown",
   "metadata": {},
   "source": [
    "# Final Model"
   ]
  },
  {
   "cell_type": "code",
   "execution_count": null,
   "metadata": {},
   "outputs": [
    {
     "data": {
      "text/html": [
       "<style>#sk-container-id-1 {color: black;background-color: white;}#sk-container-id-1 pre{padding: 0;}#sk-container-id-1 div.sk-toggleable {background-color: white;}#sk-container-id-1 label.sk-toggleable__label {cursor: pointer;display: block;width: 100%;margin-bottom: 0;padding: 0.3em;box-sizing: border-box;text-align: center;}#sk-container-id-1 label.sk-toggleable__label-arrow:before {content: \"▸\";float: left;margin-right: 0.25em;color: #696969;}#sk-container-id-1 label.sk-toggleable__label-arrow:hover:before {color: black;}#sk-container-id-1 div.sk-estimator:hover label.sk-toggleable__label-arrow:before {color: black;}#sk-container-id-1 div.sk-toggleable__content {max-height: 0;max-width: 0;overflow: hidden;text-align: left;background-color: #f0f8ff;}#sk-container-id-1 div.sk-toggleable__content pre {margin: 0.2em;color: black;border-radius: 0.25em;background-color: #f0f8ff;}#sk-container-id-1 input.sk-toggleable__control:checked~div.sk-toggleable__content {max-height: 200px;max-width: 100%;overflow: auto;}#sk-container-id-1 input.sk-toggleable__control:checked~label.sk-toggleable__label-arrow:before {content: \"▾\";}#sk-container-id-1 div.sk-estimator input.sk-toggleable__control:checked~label.sk-toggleable__label {background-color: #d4ebff;}#sk-container-id-1 div.sk-label input.sk-toggleable__control:checked~label.sk-toggleable__label {background-color: #d4ebff;}#sk-container-id-1 input.sk-hidden--visually {border: 0;clip: rect(1px 1px 1px 1px);clip: rect(1px, 1px, 1px, 1px);height: 1px;margin: -1px;overflow: hidden;padding: 0;position: absolute;width: 1px;}#sk-container-id-1 div.sk-estimator {font-family: monospace;background-color: #f0f8ff;border: 1px dotted black;border-radius: 0.25em;box-sizing: border-box;margin-bottom: 0.5em;}#sk-container-id-1 div.sk-estimator:hover {background-color: #d4ebff;}#sk-container-id-1 div.sk-parallel-item::after {content: \"\";width: 100%;border-bottom: 1px solid gray;flex-grow: 1;}#sk-container-id-1 div.sk-label:hover label.sk-toggleable__label {background-color: #d4ebff;}#sk-container-id-1 div.sk-serial::before {content: \"\";position: absolute;border-left: 1px solid gray;box-sizing: border-box;top: 0;bottom: 0;left: 50%;z-index: 0;}#sk-container-id-1 div.sk-serial {display: flex;flex-direction: column;align-items: center;background-color: white;padding-right: 0.2em;padding-left: 0.2em;position: relative;}#sk-container-id-1 div.sk-item {position: relative;z-index: 1;}#sk-container-id-1 div.sk-parallel {display: flex;align-items: stretch;justify-content: center;background-color: white;position: relative;}#sk-container-id-1 div.sk-item::before, #sk-container-id-1 div.sk-parallel-item::before {content: \"\";position: absolute;border-left: 1px solid gray;box-sizing: border-box;top: 0;bottom: 0;left: 50%;z-index: -1;}#sk-container-id-1 div.sk-parallel-item {display: flex;flex-direction: column;z-index: 1;position: relative;background-color: white;}#sk-container-id-1 div.sk-parallel-item:first-child::after {align-self: flex-end;width: 50%;}#sk-container-id-1 div.sk-parallel-item:last-child::after {align-self: flex-start;width: 50%;}#sk-container-id-1 div.sk-parallel-item:only-child::after {width: 0;}#sk-container-id-1 div.sk-dashed-wrapped {border: 1px dashed gray;margin: 0 0.4em 0.5em 0.4em;box-sizing: border-box;padding-bottom: 0.4em;background-color: white;}#sk-container-id-1 div.sk-label label {font-family: monospace;font-weight: bold;display: inline-block;line-height: 1.2em;}#sk-container-id-1 div.sk-label-container {text-align: center;}#sk-container-id-1 div.sk-container {/* jupyter's `normalize.less` sets `[hidden] { display: none; }` but bootstrap.min.css set `[hidden] { display: none !important; }` so we also need the `!important` here to be able to override the default hidden behavior on the sphinx rendered scikit-learn.org. See: https://github.com/scikit-learn/scikit-learn/issues/21755 */display: inline-block !important;position: relative;}#sk-container-id-1 div.sk-text-repr-fallback {display: none;}</style><div id=\"sk-container-id-1\" class=\"sk-top-container\"><div class=\"sk-text-repr-fallback\"><pre>GradientBoostingClassifier(max_depth=10, n_estimators=1000, random_state=42,\n",
       "                           subsample=0.8)</pre><b>In a Jupyter environment, please rerun this cell to show the HTML representation or trust the notebook. <br />On GitHub, the HTML representation is unable to render, please try loading this page with nbviewer.org.</b></div><div class=\"sk-container\" hidden><div class=\"sk-item\"><div class=\"sk-estimator sk-toggleable\"><input class=\"sk-toggleable__control sk-hidden--visually\" id=\"sk-estimator-id-1\" type=\"checkbox\" checked><label for=\"sk-estimator-id-1\" class=\"sk-toggleable__label sk-toggleable__label-arrow\">GradientBoostingClassifier</label><div class=\"sk-toggleable__content\"><pre>GradientBoostingClassifier(max_depth=10, n_estimators=1000, random_state=42,\n",
       "                           subsample=0.8)</pre></div></div></div></div></div>"
      ],
      "text/plain": [
       "GradientBoostingClassifier(max_depth=10, n_estimators=1000, random_state=42,\n",
       "                           subsample=0.8)"
      ]
     },
     "execution_count": 32,
     "metadata": {},
     "output_type": "execute_result"
    }
   ],
   "source": [
    "import numpy as np\n",
    "import pandas as pd\n",
    "from sklearn.ensemble import GradientBoostingClassifier\n",
    "\n",
    "np.seterr(all='ignore')\n",
    "sample_weights = compute_sample_weight(class_weight='balanced', y=y)\n",
    "# model definition\n",
    "xgb_model = GradientBoostingClassifier(max_depth=10, n_estimators=1000, random_state=42, subsample=0.8)\n",
    "\n",
    "# model training\n",
    "xgb_model.fit(X[cols_select].values, y.values, sample_weight=sample_weights)\n"
   ]
  },
  {
   "cell_type": "markdown",
   "metadata": {},
   "source": [
    "# Predict Kaggle Submission Data"
   ]
  },
  {
   "cell_type": "code",
   "execution_count": null,
   "metadata": {},
   "outputs": [],
   "source": [
    "df_test = pd.read_csv('../hachday_hotel-chain/dataset/test.csv', low_memory=False)\n",
    "_id = df_test['id']\n"
   ]
  },
  {
   "cell_type": "code",
   "execution_count": null,
   "metadata": {},
   "outputs": [],
   "source": [
    "dft = df_test.copy()"
   ]
  },
  {
   "attachments": {},
   "cell_type": "markdown",
   "metadata": {},
   "source": [
    "# Deploy"
   ]
  },
  {
   "cell_type": "code",
   "execution_count": null,
   "metadata": {},
   "outputs": [],
   "source": [
    "def transfomation_test(dft, name = 'submission'):\n",
    "    # Rename \n",
    "    dft = df_test.rename(columns={'id':'id','Classificação do hotel': 'hotel_rating', 'Meses da reserva até o check-in': 'month_booking',\n",
    "                            'Número de pernoites reservadas': 'number_stays_booking', 'Número de hospedes': 'number_guests',\n",
    "                            'Regime de alimentação': 'meal_regime', 'Nacionalidade': 'nationality', 'Forma de Reserva': 'reservation_Form',\n",
    "                            'Já se hospedou anterioremente': 'previously_hosted', 'Tipo do quarto reservado': 'type_booked_room',\n",
    "                            'Reserva feita por agência de turismo': 'tourism_agency_booking', 'Reserva feita por empresa': 'company_booking',\n",
    "                            'Reserva com Estacionamento': 'parking_Reservation', 'Reserva com Observações': 'reservation_Observations', 'Reserva Cancelada': 'booking_canceled'})\n",
    "\n",
    "\n",
    "\n",
    "    ## Fill NA\n",
    "    dft['nationality'] = dft['nationality'].apply(\n",
    "        lambda x: 'Spain' if pd.isnull(x) else x)\n",
    "    dft['number_guests'] = dft['number_guests'].apply(\n",
    "        lambda x: 1 if pd.isnull(x) else x)\n",
    "    dft['number_guests'] = dft['number_guests'].astype('int64')\n",
    "    ## Change type\n",
    "    dft['id'] = dft['id'].astype('int64')\n",
    "\n",
    "    ## Rescaling\n",
    "    rs = RobustScaler()\n",
    "\n",
    "    # meses_da_reserva_ate_o_check-in - Robust Scaler\n",
    "    dft['id'] = rs.fit_transform( dft[['id']].values )\n",
    "\n",
    "    # meses_da_reserva_ate_o_check-in - Robust Scaler\n",
    "    dft['month_booking'] = rs.fit_transform(dft[['month_booking']].values)\n",
    "\n",
    "    # numero_de_pernoites_reservadas - Robust Scaler\n",
    "    dft['number_stays_booking'] = rs.fit_transform( dft[['number_stays_booking']].values )\n",
    "\n",
    "    # numero_de_hospedes - Robust Scaler\n",
    "    dft['number_guests'] = rs.fit_transform( dft[['number_guests']].values )\n",
    "    ## Transformation\n",
    "    # Label Encoder\n",
    "    le = LabelEncoder()\n",
    "    label_cols = ['meal_regime', 'nationality', 'reservation_Form',\n",
    "                'type_booked_room', 'reservation_Observations']\n",
    "    for col in label_cols:\n",
    "        dft[col] = le.fit_transform(dft[col])\n",
    "\n",
    "    # Ordinal Encoding\n",
    "    classificacao_dict = {'5 estrelas': 5, '4 estrelas': 4}\n",
    "    dft['hotel_rating'] = dft['hotel_rating'].map(classificacao_dict)\n",
    "\n",
    "    # Boolean\n",
    "    bool_cols = ['previously_hosted', 'tourism_agency_booking',\n",
    "                'company_booking', 'parking_Reservation']\n",
    "    for col in bool_cols:\n",
    "        dft[col] = dft[col].apply(\n",
    "            lambda x: 0 if x == 'Não' else 1 if x == 'Sim' else x)\n",
    "\n",
    "\n",
    "    # transform into int\n",
    "    dft['hotel_rating'] = dft['hotel_rating'].astype('int')\n",
    "    dft['previously_hosted'] = dft['previously_hosted'].astype('int')\n",
    "    dft['tourism_agency_booking'] = dft['tourism_agency_booking'].astype('int')\n",
    "    dft['company_booking'] = dft['company_booking'].astype('int')\n",
    "    dft['parking_Reservation'] = dft['parking_Reservation'].astype('int')\n",
    "    ## Predict\n",
    "    y_pred_test = xgb_model.predict(dft[cols_select].values)\n",
    "\n",
    "    submission = pd.concat([_id, pd.Series(y_pred_test, name='Reserva Cancelada')], axis=1)\n",
    "\n",
    "    ## Create submission file\n",
    "    submission['Reserva Cancelada'] = submission['Reserva Cancelada'].astype(int)\n",
    "\n",
    "    submission.to_csv('../hachday_hotel-chain/submission/'+ name + '.csv', index=False)\n"
   ]
  },
  {
   "cell_type": "code",
   "execution_count": null,
   "metadata": {},
   "outputs": [],
   "source": [
    "transfomation_test(dft, name = 'submission_v3')"
   ]
  },
  {
   "attachments": {},
   "cell_type": "markdown",
   "metadata": {},
   "source": [
    "# Resultado Kaggle"
   ]
  },
  {
   "cell_type": "code",
   "execution_count": null,
   "metadata": {},
   "outputs": [
    {
     "data": {
      "text/html": [
       "<div>\n",
       "<style scoped>\n",
       "    .dataframe tbody tr th:only-of-type {\n",
       "        vertical-align: middle;\n",
       "    }\n",
       "\n",
       "    .dataframe tbody tr th {\n",
       "        vertical-align: top;\n",
       "    }\n",
       "\n",
       "    .dataframe thead th {\n",
       "        text-align: right;\n",
       "    }\n",
       "</style>\n",
       "<table border=\"1\" class=\"dataframe\">\n",
       "  <thead>\n",
       "    <tr style=\"text-align: right;\">\n",
       "      <th></th>\n",
       "      <th>Versão</th>\n",
       "      <th>Algoritmo</th>\n",
       "      <th>f1_score_test</th>\n",
       "      <th>private_score</th>\n",
       "      <th>public_score</th>\n",
       "    </tr>\n",
       "  </thead>\n",
       "  <tbody>\n",
       "    <tr>\n",
       "      <th>0</th>\n",
       "      <td>baseline</td>\n",
       "      <td>regressionLogitic</td>\n",
       "      <td>NaN</td>\n",
       "      <td>0.669</td>\n",
       "      <td>0.669</td>\n",
       "    </tr>\n",
       "    <tr>\n",
       "      <th>1</th>\n",
       "      <td>v1</td>\n",
       "      <td>XBGoost</td>\n",
       "      <td>0.971</td>\n",
       "      <td>0.883</td>\n",
       "      <td>0.881</td>\n",
       "    </tr>\n",
       "    <tr>\n",
       "      <th>2</th>\n",
       "      <td>v2</td>\n",
       "      <td>XBGoost</td>\n",
       "      <td>0.968</td>\n",
       "      <td>0.912</td>\n",
       "      <td>0.911</td>\n",
       "    </tr>\n",
       "  </tbody>\n",
       "</table>\n",
       "</div>"
      ],
      "text/plain": [
       "     Versão          Algoritmo  f1_score_test  private_score  public_score\n",
       "0  baseline  regressionLogitic            NaN          0.669         0.669\n",
       "1        v1            XBGoost          0.971          0.883         0.881\n",
       "2        v2            XBGoost          0.968          0.912         0.911"
      ]
     },
     "execution_count": 155,
     "metadata": {},
     "output_type": "execute_result"
    }
   ],
   "source": [
    "result_kaggle = pd.DataFrame(columns = ['Versão','Algoritmo','f1_score_test','private_score', 'public_score'])\n",
    "\n",
    "baseline = {'Versão':'baseline','Algoritmo':'regressionLogistic','private_score':0.669, 'public_score':0.669}\n",
    "model_v1 = {'Versão': 'v1', 'Algoritmo':'XGBoost','f1_score_test': 0.971, 'private_score': 0.883, 'public_score': 0.881}\n",
    "model_v2 = {'Versão': 'v2', 'Algoritmo':'XGBoost', 'f1_score_test': 0.968, 'private_score': 0.912, 'public_score': 0.911}\n",
    "\n",
    "\n",
    "modelos = [baseline, model_v1, model_v2]\n",
    "result_kaggle.append(modelos)"
   ]
  }
 ],
 "metadata": {
  "kernelspec": {
   "display_name": "Python 3.10.6 64-bit ('3.10.6')",
   "language": "python",
   "name": "python3"
  },
  "language_info": {
   "codemirror_mode": {
    "name": "ipython",
    "version": 3
   },
   "file_extension": ".py",
   "mimetype": "text/x-python",
   "name": "python",
   "nbconvert_exporter": "python",
   "pygments_lexer": "ipython3",
   "version": "3.10.6"
  },
  "vscode": {
   "interpreter": {
    "hash": "96ea18d691572f41e5982093b44bc8a9e0f0326a2ee4473b06339fc9d0d745cd"
   }
  }
 },
 "nbformat": 4,
 "nbformat_minor": 2
}
